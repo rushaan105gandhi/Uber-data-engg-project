{
 "cells": [
  {
   "cell_type": "code",
   "execution_count": 1,
   "id": "bab97c57-b9e6-4e53-b88a-b9d49fdadea2",
   "metadata": {},
   "outputs": [],
   "source": [
    "import pandas as pd"
   ]
  },
  {
   "cell_type": "code",
   "execution_count": 2,
   "id": "dd337391-b50f-4652-9e4b-882b152c6a4a",
   "metadata": {},
   "outputs": [],
   "source": [
    "df = pd.read_csv(\"data/uber_data.csv\")"
   ]
  },
  {
   "cell_type": "code",
   "execution_count": null,
   "id": "78d0bc6b-5d1f-4bbf-bd49-2fd51e548b80",
   "metadata": {},
   "outputs": [],
   "source": [
    "df"
   ]
  },
  {
   "cell_type": "code",
   "execution_count": null,
   "id": "c86c6ecc-c25c-4206-98be-34965a572b14",
   "metadata": {},
   "outputs": [],
   "source": []
  }
 ],
 "metadata": {
  "kernelspec": {
   "display_name": "Python 3 (ipykernel)",
   "language": "python",
   "name": "python3"
  },
  "language_info": {
   "codemirror_mode": {
    "name": "ipython",
    "version": 3
   },
   "file_extension": ".py",
   "mimetype": "text/x-python",
   "name": "python",
   "nbconvert_exporter": "python",
   "pygments_lexer": "ipython3",
   "version": "3.11.3"
  }
 },
 "nbformat": 4,
 "nbformat_minor": 5
}
